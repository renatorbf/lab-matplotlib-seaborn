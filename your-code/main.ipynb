{
  "nbformat": 4,
  "nbformat_minor": 0,
  "metadata": {
    "anaconda-cloud": {},
    "kernelspec": {
      "display_name": "Python 3",
      "language": "python",
      "name": "python3"
    },
    "language_info": {
      "codemirror_mode": {
        "name": "ipython",
        "version": 3
      },
      "file_extension": ".py",
      "mimetype": "text/x-python",
      "name": "python",
      "nbconvert_exporter": "python",
      "pygments_lexer": "ipython3",
      "version": "3.7.2"
    },
    "colab": {
      "name": "main.ipynb",
      "provenance": []
    }
  },
  "cells": [
    {
      "cell_type": "markdown",
      "metadata": {
        "id": "63JezMRLt5vC"
      },
      "source": [
        "# Lab | Matplotlib & Seaborn\n",
        "\n",
        "#### Import all the necessary libraries here:"
      ]
    },
    {
      "cell_type": "code",
      "metadata": {
        "id": "4f39gwg8t5vH"
      },
      "source": [
        "# Libraries\n",
        "import numpy as np\n",
        "import matplotlib.pyplot as plt\n"
      ],
      "execution_count": 1,
      "outputs": []
    },
    {
      "cell_type": "markdown",
      "metadata": {
        "id": "o25wR7jOt5vI"
      },
      "source": [
        "## Challenge 1\n",
        "\n",
        "#### The data we will use in this challenge is:"
      ]
    },
    {
      "cell_type": "code",
      "metadata": {
        "id": "OgeMJnUDt5vJ"
      },
      "source": [
        "x = np.arange(0,100)\n",
        "y = x*2\n",
        "z = x**2"
      ],
      "execution_count": 2,
      "outputs": []
    },
    {
      "cell_type": "markdown",
      "metadata": {
        "id": "xsNIzBcKt5vJ"
      },
      "source": [
        "#### Plot (x, y) and (x, z).\n",
        "There are 2 ways of doing this. Do in both ways.\n",
        "\n",
        "**Hint**: Check out the nrows, ncols and index arguments of subplots. \n",
        "\n",
        "Also, play around with the linewidth and style. Use the ones you're most happy with."
      ]
    },
    {
      "cell_type": "code",
      "metadata": {
        "id": "kvfO3voDt5vK",
        "outputId": "2b0466fe-c00c-4933-ff06-975bced0e036",
        "colab": {
          "base_uri": "https://localhost:8080/",
          "height": 265
        }
      },
      "source": [
        "# Method 1\n",
        "plt.subplot(1,2,1)\n",
        "plt.plot(x,y,'r')\n",
        "\n",
        "plt.subplot(1,2,2)\n",
        "plt.plot(x,z,'+')\n",
        "\n",
        "plt.show()"
      ],
      "execution_count": 34,
      "outputs": [
        {
          "output_type": "display_data",
          "data": {
            "image/png": "[encoded data removed]",
            "text/plain": [
              "<Figure size 432x288 with 2 Axes>"
            ]
          },
          "metadata": {
            "needs_background": "light"
          }
        }
      ]
    },
    {
      "cell_type": "markdown",
      "metadata": {
        "id": "5NHXbkkxt5vK"
      },
      "source": [
        "#### Use plt.subplots(nrows=1, ncols=2) to create the plot."
      ]
    },
    {
      "cell_type": "code",
      "metadata": {
        "id": "UFCDrj82t5vL",
        "outputId": "6c6c64b5-96e1-4ee1-d0d5-2bbfcc89ce8a",
        "colab": {
          "base_uri": "https://localhost:8080/",
          "height": 266
        }
      },
      "source": [
        "# Method 2\n",
        "plt.subplot(2,1,1)\n",
        "plt.plot(x,y,'r')\n",
        "\n",
        "plt.subplot(2,1,2)\n",
        "plt.plot(x,z,'+')\n",
        "\n",
        "plt.show()"
      ],
      "execution_count": 35,
      "outputs": [
        {
          "output_type": "display_data",
          "data": {
            "image/png": "[encoded data removed]",
            "text/plain": [
              "<Figure size 432x288 with 2 Axes>"
            ]
          },
          "metadata": {
            "needs_background": "light"
          }
        }
      ]
    },
    {
      "cell_type": "markdown",
      "metadata": {
        "id": "YedLgyt7t5vM"
      },
      "source": [
        "#### Use your previous code but now, resize your plot.\n",
        "**Hint**: Add the figsize argument in plt.subplots().\n",
        "\n",
        "If you want, try to add a title to the plot or even axes labels. You can also play with the fontweight and fontsize of the titles and labels. "
      ]
    },
    {
      "cell_type": "code",
      "metadata": {
        "id": "UVq0eRh8t5vN"
      },
      "source": [
        "# your code here"
      ],
      "execution_count": 5,
      "outputs": []
    },
    {
      "cell_type": "markdown",
      "metadata": {
        "id": "L9YRgSEDt5vO"
      },
      "source": [
        "#### Plot both $y=x^2$ and $y=e^x$ in the same plot using normal and logarithmic scale.\n",
        "**Hint**: Use `set_xscale` and `set_yscale`."
      ]
    },
    {
      "cell_type": "code",
      "metadata": {
        "id": "5MMGUhIUt5vO"
      },
      "source": [
        "# your code here"
      ],
      "execution_count": 6,
      "outputs": []
    },
    {
      "cell_type": "markdown",
      "metadata": {
        "id": "oA6SROZKt5vP"
      },
      "source": [
        "#### As a bonus challenge, try to add a legend to the plot."
      ]
    },
    {
      "cell_type": "code",
      "metadata": {
        "id": "DQ3nEkXtt5vQ"
      },
      "source": [
        "# your code here"
      ],
      "execution_count": 7,
      "outputs": []
    },
    {
      "cell_type": "markdown",
      "metadata": {
        "id": "Ng8Wgfw9t5vQ"
      },
      "source": [
        "## Challenge 2\n",
        "#### Import the `Fitbit2` dataset and store it in a variable called `fitbit`. You can find the dataset in Ironhack's database:\n",
        "* db: `fitbit`\n",
        "* table: `fitbit2`"
      ]
    },
    {
      "cell_type": "code",
      "metadata": {
        "id": "eNy-SwUyt5vQ"
      },
      "source": [
        "# your code here"
      ],
      "execution_count": 8,
      "outputs": []
    },
    {
      "cell_type": "markdown",
      "metadata": {
        "id": "_cbDMkT1t5vR"
      },
      "source": [
        "#### From the Fitbit data, we want to visually understand:\n",
        "\n",
        "How the average number of steps change by month. Use the appropriate visualization to show the median steps by month. Is Fitbitter more active on weekend or workdays? All plots must be in the same jupyter notebook cell.\n",
        "\n",
        "**Hints**:\n",
        "\n",
        "* Use Months_encoded and Week_or Weekend columns.\n",
        "* Use matplolib.pyplot object oriented API.\n",
        "* Set your size figure to 12,4\n",
        "* Explore plt.sca\n",
        "* Explore plt.xticks\n",
        "* Save your figures in a folder called `figures` in your repo. "
      ]
    },
    {
      "cell_type": "code",
      "metadata": {
        "id": "4ZDET4Fpt5vR"
      },
      "source": [
        "# MEDIAN STEPS BY MONTH_ENCODED\n",
        "# your code here\n",
        "\n",
        "# MEDIAN STEPS BY WORK_OR_WEEKEND\n",
        "# your code here"
      ],
      "execution_count": 9,
      "outputs": []
    },
    {
      "cell_type": "markdown",
      "metadata": {
        "id": "8stKPMrHt5vR"
      },
      "source": [
        "#### Write a loop to plot 3 scatter plots of the following features:\n",
        "\n",
        "* Minutes Lightly Active vs Steps    \n",
        "* Minutes Very Active vs Steps    \n",
        "* Minutes Sedentary vs Steps  "
      ]
    },
    {
      "cell_type": "code",
      "metadata": {
        "id": "FWu0sokLt5vS"
      },
      "source": [
        "# your code here"
      ],
      "execution_count": 10,
      "outputs": []
    },
    {
      "cell_type": "markdown",
      "metadata": {
        "id": "5aXxTEqyt5vS"
      },
      "source": [
        "## Challenge 3\n",
        "\n",
        "#### Import the `titanic` dataset and store it in a variable called `titanic`. You can find the dataset in Ironhack's database:\n",
        "* db: `titanic`\n",
        "* table: `titanic`"
      ]
    },
    {
      "cell_type": "code",
      "metadata": {
        "scrolled": true,
        "id": "TiN3gXopt5vS"
      },
      "source": [
        "# your code here"
      ],
      "execution_count": 11,
      "outputs": []
    },
    {
      "cell_type": "markdown",
      "metadata": {
        "id": "dPCi_zfzt5vS"
      },
      "source": [
        "#### Explore the titanic dataset using Pandas dtypes."
      ]
    },
    {
      "cell_type": "code",
      "metadata": {
        "id": "in8AzBT5t5vT"
      },
      "source": [
        "# your code here"
      ],
      "execution_count": 12,
      "outputs": []
    },
    {
      "cell_type": "markdown",
      "metadata": {
        "id": "2itD4OR8t5vT"
      },
      "source": [
        "#### What are your numerical variables? What are your categorical variables?\n",
        "**Hint**: Use Pandas select_dtypes."
      ]
    },
    {
      "cell_type": "code",
      "metadata": {
        "id": "HHMgDSFZt5vT"
      },
      "source": [
        "# NUMERICAL VARIABLES\n",
        "# your code here"
      ],
      "execution_count": 13,
      "outputs": []
    },
    {
      "cell_type": "code",
      "metadata": {
        "id": "pyKPyK7Mt5vT"
      },
      "source": [
        "# CATEGORICAL VARIABLES\n",
        "# your code here"
      ],
      "execution_count": 14,
      "outputs": []
    },
    {
      "cell_type": "markdown",
      "metadata": {
        "id": "nRlzjp_jt5vT"
      },
      "source": [
        "#### Set the plot style to classic and the figure size to (12,6).\n",
        "**Hint**: To set the style you can use matplotlib or seaborn functions. Do some research on the matter."
      ]
    },
    {
      "cell_type": "code",
      "metadata": {
        "id": "QMAj_VBkt5vU"
      },
      "source": [
        "# your code here"
      ],
      "execution_count": 15,
      "outputs": []
    },
    {
      "cell_type": "markdown",
      "metadata": {
        "id": "6W9ODVp2t5vU"
      },
      "source": [
        "#### Use the right visulalization to show the distribution of column `Age`."
      ]
    },
    {
      "cell_type": "code",
      "metadata": {
        "id": "Q5zPju1Ut5vU"
      },
      "source": [
        "# your code here"
      ],
      "execution_count": 16,
      "outputs": []
    },
    {
      "cell_type": "markdown",
      "metadata": {
        "id": "dOJoeanvt5vU"
      },
      "source": [
        "#### Use subplots and plot the distribution of the `Age`  with bins equal to 10, 20 and 50."
      ]
    },
    {
      "cell_type": "code",
      "metadata": {
        "id": "96WUBw62t5vU"
      },
      "source": [
        "# your code here"
      ],
      "execution_count": 17,
      "outputs": []
    },
    {
      "cell_type": "markdown",
      "metadata": {
        "id": "5EpVQQrut5vV"
      },
      "source": [
        "#### How does the bin size affect your plot?"
      ]
    },
    {
      "cell_type": "code",
      "metadata": {
        "id": "o1P3-8ePt5vV",
        "outputId": "d989800e-3d92-4b8f-e7b4-6e7157ba5aac",
        "colab": {
          "base_uri": "https://localhost:8080/",
          "height": 0
        }
      },
      "source": [
        "\"\"\"\n",
        "your comments here\n",
        "\"\"\""
      ],
      "execution_count": 18,
      "outputs": [
        {
          "output_type": "execute_result",
          "data": {
            "application/vnd.google.colaboratory.intrinsic+json": {
              "type": "string"
            },
            "text/plain": [
              "'\\nyour comments here\\n'"
            ]
          },
          "metadata": {},
          "execution_count": 18
        }
      ]
    },
    {
      "cell_type": "markdown",
      "metadata": {
        "id": "0nxzPf8it5vV"
      },
      "source": [
        "#### Use seaborn to show the distribution of column `Age`."
      ]
    },
    {
      "cell_type": "code",
      "metadata": {
        "id": "VLCHCFvNt5vV"
      },
      "source": [
        "# your code here"
      ],
      "execution_count": 19,
      "outputs": []
    },
    {
      "cell_type": "markdown",
      "metadata": {
        "id": "mJWGz9s-t5vV"
      },
      "source": [
        "#### Use the right plot to visualize column `Gender`. There are 2 ways of doing it. Do it both ways.\n",
        "**Hint**: Use matplotlib and seaborn."
      ]
    },
    {
      "cell_type": "code",
      "metadata": {
        "id": "05ay5m-tt5vV"
      },
      "source": [
        "# Method 1 - matplotlib\n",
        "# your code here"
      ],
      "execution_count": 20,
      "outputs": []
    },
    {
      "cell_type": "code",
      "metadata": {
        "id": "Q7uT6vwst5vW"
      },
      "source": [
        "# Method 2 - seaborn\n",
        "# your code here"
      ],
      "execution_count": 21,
      "outputs": []
    },
    {
      "cell_type": "markdown",
      "metadata": {
        "id": "g1703Ycmt5vW"
      },
      "source": [
        "#### Use the right plot to visualize the column `Pclass`."
      ]
    },
    {
      "cell_type": "code",
      "metadata": {
        "id": "W-f-ph6rt5vW"
      },
      "source": [
        "# your code here"
      ],
      "execution_count": 22,
      "outputs": []
    },
    {
      "cell_type": "markdown",
      "metadata": {
        "id": "kEETBCErt5vW"
      },
      "source": [
        "#### We would like to have in one single plot the summary statistics of the feature `Age`. What kind of plot would you use? Plot it. "
      ]
    },
    {
      "cell_type": "code",
      "metadata": {
        "id": "Esc3Vug7t5vW"
      },
      "source": [
        "# your code here"
      ],
      "execution_count": 23,
      "outputs": []
    },
    {
      "cell_type": "code",
      "metadata": {
        "id": "IhKZyY9Pt5vW",
        "outputId": "cb913bd9-eeca-4e8c-d054-f1ab8acb97f4",
        "colab": {
          "base_uri": "https://localhost:8080/",
          "height": 0
        }
      },
      "source": [
        "\"\"\"\n",
        "your comments here\n",
        "\"\"\""
      ],
      "execution_count": 24,
      "outputs": [
        {
          "output_type": "execute_result",
          "data": {
            "application/vnd.google.colaboratory.intrinsic+json": {
              "type": "string"
            },
            "text/plain": [
              "'\\nyour comments here\\n'"
            ]
          },
          "metadata": {},
          "execution_count": 24
        }
      ]
    },
    {
      "cell_type": "markdown",
      "metadata": {
        "id": "9-PJJ9GCt5vW"
      },
      "source": [
        "#### What does the last plot tell you about the feature `Age`?"
      ]
    },
    {
      "cell_type": "code",
      "metadata": {
        "id": "CcExETTqt5vX",
        "outputId": "c447cedd-4704-42be-e688-31d864a5a000",
        "colab": {
          "base_uri": "https://localhost:8080/",
          "height": 0
        }
      },
      "source": [
        "\"\"\"\n",
        "your comments here\n",
        "\"\"\""
      ],
      "execution_count": 25,
      "outputs": [
        {
          "output_type": "execute_result",
          "data": {
            "application/vnd.google.colaboratory.intrinsic+json": {
              "type": "string"
            },
            "text/plain": [
              "'\\nyour comments here\\n'"
            ]
          },
          "metadata": {},
          "execution_count": 25
        }
      ]
    },
    {
      "cell_type": "markdown",
      "metadata": {
        "id": "1V-hHAgTt5vX"
      },
      "source": [
        "#### Now in addition to the summary statistics, we want to have in the same plot the distribution of `Age`. What kind of plot would you use? Plot it. "
      ]
    },
    {
      "cell_type": "code",
      "metadata": {
        "id": "NMYneg6yt5vX"
      },
      "source": [
        "# your code here"
      ],
      "execution_count": 26,
      "outputs": []
    },
    {
      "cell_type": "markdown",
      "metadata": {
        "id": "fpwuK0a8t5vX"
      },
      "source": [
        "#### What additional information does the last plot provide about feature `Age`?"
      ]
    },
    {
      "cell_type": "code",
      "metadata": {
        "id": "s_2C043Mt5vX",
        "outputId": "9142fdfc-a7be-4e23-8bea-c7375f4a66f2",
        "colab": {
          "base_uri": "https://localhost:8080/",
          "height": 0
        }
      },
      "source": [
        "\"\"\"\n",
        "your comments here\n",
        "\"\"\""
      ],
      "execution_count": 27,
      "outputs": [
        {
          "output_type": "execute_result",
          "data": {
            "application/vnd.google.colaboratory.intrinsic+json": {
              "type": "string"
            },
            "text/plain": [
              "'\\nyour comments here\\n'"
            ]
          },
          "metadata": {},
          "execution_count": 27
        }
      ]
    },
    {
      "cell_type": "markdown",
      "metadata": {
        "id": "4qwSY3VFt5vY"
      },
      "source": [
        "#### We suspect that there is a linear relationship between `Fare` and `Age`. Use the right plot to show the relationship between these 2 features. There are 2 ways, please do it both ways.\n",
        "**Hint**: Use matplotlib and seaborn."
      ]
    },
    {
      "cell_type": "code",
      "metadata": {
        "id": "7WniaDBIt5vY"
      },
      "source": [
        "# Method 1 - matplotlib\n",
        "# your code here"
      ],
      "execution_count": 28,
      "outputs": []
    },
    {
      "cell_type": "code",
      "metadata": {
        "id": "oqm1B-oIt5vY"
      },
      "source": [
        "# Method 2 - seaborn\n",
        "# your code here"
      ],
      "execution_count": 29,
      "outputs": []
    },
    {
      "cell_type": "markdown",
      "metadata": {
        "id": "ocFYKEngt5vY"
      },
      "source": [
        "#### Plot the correlation matrix using seaborn."
      ]
    },
    {
      "cell_type": "code",
      "metadata": {
        "id": "bmnx36T3t5vZ"
      },
      "source": [
        "# your code here"
      ],
      "execution_count": 30,
      "outputs": []
    },
    {
      "cell_type": "markdown",
      "metadata": {
        "id": "nyfVuHWat5vZ"
      },
      "source": [
        "#### What are the most correlated features?"
      ]
    },
    {
      "cell_type": "code",
      "metadata": {
        "id": "FVwAbarBt5vZ",
        "outputId": "b96ec87c-7bd2-4812-ea13-baa889793fe7",
        "colab": {
          "base_uri": "https://localhost:8080/",
          "height": 0
        }
      },
      "source": [
        "\"\"\"\n",
        "your comments here\n",
        "\"\"\""
      ],
      "execution_count": 31,
      "outputs": [
        {
          "output_type": "execute_result",
          "data": {
            "application/vnd.google.colaboratory.intrinsic+json": {
              "type": "string"
            },
            "text/plain": [
              "'\\nyour comments here\\n'"
            ]
          },
          "metadata": {},
          "execution_count": 31
        }
      ]
    },
    {
      "cell_type": "markdown",
      "metadata": {
        "id": "LTeHbZC_t5vZ"
      },
      "source": [
        "#### Use the most appropriate plot to display the summary statistics of `Age` depending on `Pclass`."
      ]
    },
    {
      "cell_type": "code",
      "metadata": {
        "scrolled": true,
        "id": "7oZgPMRst5vZ"
      },
      "source": [
        "# your code here"
      ],
      "execution_count": 32,
      "outputs": []
    },
    {
      "cell_type": "markdown",
      "metadata": {
        "id": "WjrG3iWKt5va"
      },
      "source": [
        "#### Use seaborn to plot the distribution of `Age` based on the `Gender`.\n",
        "**Hint**: Use Facetgrid."
      ]
    },
    {
      "cell_type": "code",
      "metadata": {
        "id": "Fm3L9-NIt5va"
      },
      "source": [
        "# your code here"
      ],
      "execution_count": 33,
      "outputs": []
    }
  ]
}